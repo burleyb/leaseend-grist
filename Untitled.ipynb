{
 "cells": [
  {
   "cell_type": "code",
   "execution_count": 1,
   "id": "439a03dc-657b-420a-8d32-241542dc651b",
   "metadata": {},
   "outputs": [],
   "source": [
    "import pandas as pd\n",
    "import xlwings as xw\n",
    "from xlwings.constants import AutoFillType"
   ]
  },
  {
   "cell_type": "code",
   "execution_count": 2,
   "id": "0a2b003d-f20c-43cf-85ba-80bf6d3dd011",
   "metadata": {},
   "outputs": [
    {
     "data": {
      "text/html": [
       "<div>\n",
       "<style scoped>\n",
       "    .dataframe tbody tr th:only-of-type {\n",
       "        vertical-align: middle;\n",
       "    }\n",
       "\n",
       "    .dataframe tbody tr th {\n",
       "        vertical-align: top;\n",
       "    }\n",
       "\n",
       "    .dataframe thead th {\n",
       "        text-align: right;\n",
       "    }\n",
       "</style>\n",
       "<table border=\"1\" class=\"dataframe\">\n",
       "  <thead>\n",
       "    <tr style=\"text-align: right;\">\n",
       "      <th></th>\n",
       "      <th>No.</th>\n",
       "      <th>Day</th>\n",
       "      <th>DD</th>\n",
       "      <th>MMM</th>\n",
       "      <th>YYYY</th>\n",
       "      <th>N1</th>\n",
       "      <th>N2</th>\n",
       "      <th>N3</th>\n",
       "      <th>N4</th>\n",
       "      <th>N5</th>\n",
       "      <th>L1</th>\n",
       "      <th>L2</th>\n",
       "      <th>Jackpot</th>\n",
       "      <th>Wins</th>\n",
       "    </tr>\n",
       "  </thead>\n",
       "  <tbody>\n",
       "    <tr>\n",
       "      <th>1638</th>\n",
       "      <td>187</td>\n",
       "      <td>Fri</td>\n",
       "      <td>7</td>\n",
       "      <td>Sep</td>\n",
       "      <td>2007</td>\n",
       "      <td>42</td>\n",
       "      <td>3</td>\n",
       "      <td>34</td>\n",
       "      <td>2</td>\n",
       "      <td>33</td>\n",
       "      <td>5</td>\n",
       "      <td>3</td>\n",
       "      <td>10222500</td>\n",
       "      <td>1</td>\n",
       "    </tr>\n",
       "    <tr>\n",
       "      <th>1058</th>\n",
       "      <td>767</td>\n",
       "      <td>Tue</td>\n",
       "      <td>27</td>\n",
       "      <td>Jan</td>\n",
       "      <td>2015</td>\n",
       "      <td>10</td>\n",
       "      <td>33</td>\n",
       "      <td>5</td>\n",
       "      <td>31</td>\n",
       "      <td>40</td>\n",
       "      <td>10</td>\n",
       "      <td>8</td>\n",
       "      <td>16266792</td>\n",
       "      <td>1</td>\n",
       "    </tr>\n",
       "    <tr>\n",
       "      <th>993</th>\n",
       "      <td>832</td>\n",
       "      <td>Fri</td>\n",
       "      <td>11</td>\n",
       "      <td>Sep</td>\n",
       "      <td>2015</td>\n",
       "      <td>19</td>\n",
       "      <td>50</td>\n",
       "      <td>10</td>\n",
       "      <td>29</td>\n",
       "      <td>18</td>\n",
       "      <td>9</td>\n",
       "      <td>1</td>\n",
       "      <td>11032500</td>\n",
       "      <td>0</td>\n",
       "    </tr>\n",
       "    <tr>\n",
       "      <th>439</th>\n",
       "      <td>1386</td>\n",
       "      <td>Fri</td>\n",
       "      <td>1</td>\n",
       "      <td>Jan</td>\n",
       "      <td>2021</td>\n",
       "      <td>32</td>\n",
       "      <td>16</td>\n",
       "      <td>48</td>\n",
       "      <td>44</td>\n",
       "      <td>28</td>\n",
       "      <td>1</td>\n",
       "      <td>9</td>\n",
       "      <td>39774466</td>\n",
       "      <td>1</td>\n",
       "    </tr>\n",
       "    <tr>\n",
       "      <th>343</th>\n",
       "      <td>1482</td>\n",
       "      <td>Fri</td>\n",
       "      <td>3</td>\n",
       "      <td>Dec</td>\n",
       "      <td>2021</td>\n",
       "      <td>46</td>\n",
       "      <td>21</td>\n",
       "      <td>32</td>\n",
       "      <td>22</td>\n",
       "      <td>29</td>\n",
       "      <td>9</td>\n",
       "      <td>10</td>\n",
       "      <td>111176000</td>\n",
       "      <td>0</td>\n",
       "    </tr>\n",
       "  </tbody>\n",
       "</table>\n",
       "</div>"
      ],
      "text/plain": [
       "       No.   Day  DD  MMM  YYYY   N1  N2  N3  N4  N5  L1  L2    Jackpot  \\\n",
       "1638   187   Fri   7  Sep  2007   42   3  34   2  33   5   3   10222500   \n",
       "1058   767   Tue  27  Jan  2015   10  33   5  31  40  10   8   16266792   \n",
       "993    832   Fri  11  Sep  2015   19  50  10  29  18   9   1   11032500   \n",
       "439   1386   Fri   1  Jan  2021   32  16  48  44  28   1   9   39774466   \n",
       "343   1482   Fri   3  Dec  2021   46  21  32  22  29   9  10  111176000   \n",
       "\n",
       "         Wins  \n",
       "1638        1  \n",
       "1058        1  \n",
       "993         0  \n",
       "439         1  \n",
       "343         0  "
      ]
     },
     "execution_count": 2,
     "metadata": {},
     "output_type": "execute_result"
    }
   ],
   "source": [
    "df = pd.read_csv('~/github/excel/euro_numbers.csv')\n",
    "df.sample(5)"
   ]
  },
  {
   "cell_type": "code",
   "execution_count": 3,
   "id": "23ca7780-1ce7-4499-8831-e7b15deacc80",
   "metadata": {},
   "outputs": [
    {
     "name": "stdout",
     "output_type": "stream",
     "text": [
      "Apps([<App [excel] 41932>])\n"
     ]
    }
   ],
   "source": [
    "wb = xw.Book()\n",
    "\n",
    "print(xw.apps)"
   ]
  },
  {
   "cell_type": "code",
   "execution_count": 4,
   "id": "7dba1d7e-f081-4c10-8a53-3b0672fdae04",
   "metadata": {},
   "outputs": [
    {
     "name": "stdout",
     "output_type": "stream",
     "text": [
      "Books([<Book [LeaseEnd Financials(AutoRecovered).xlsm]>, <Book [Book13]>, <Book [Book14]>])\n"
     ]
    }
   ],
   "source": [
    "print(xw.apps[41932].books)"
   ]
  },
  {
   "cell_type": "code",
   "execution_count": 5,
   "id": "f2e7aad2-5738-4282-a650-60c535608fd9",
   "metadata": {},
   "outputs": [
    {
     "name": "stdout",
     "output_type": "stream",
     "text": [
      "3\n"
     ]
    }
   ],
   "source": [
    "print(xw.apps[41932].books.count)"
   ]
  },
  {
   "cell_type": "code",
   "execution_count": 6,
   "id": "df03d2ce-f260-4b5f-b6b2-c157de3a64ae",
   "metadata": {},
   "outputs": [
    {
     "name": "stdout",
     "output_type": "stream",
     "text": [
      "Sheets([<Sheet [Book14]Sheet1>])\n"
     ]
    }
   ],
   "source": [
    "print(wb.sheets)"
   ]
  },
  {
   "cell_type": "code",
   "execution_count": 7,
   "id": "ccc82d64-b5cf-4ba2-a6e7-85669b0fb665",
   "metadata": {},
   "outputs": [
    {
     "name": "stdout",
     "output_type": "stream",
     "text": [
      "True\n"
     ]
    }
   ],
   "source": [
    "#creates a worksheet object assigns it to ws\n",
    "ws = wb.sheets[\"Sheet1\"]\n",
    "#checks that wb.sheets[0] equals ws\n",
    "print(ws == wb.sheets[0])"
   ]
  },
  {
   "cell_type": "code",
   "execution_count": 8,
   "id": "9d148d2f-b978-483f-ba13-f0bbb110df5c",
   "metadata": {},
   "outputs": [],
   "source": [
    "ws.name = \"EuroMillions\""
   ]
  },
  {
   "cell_type": "code",
   "execution_count": 9,
   "id": "02a8eda3-fe1a-4d05-8f5a-47cc971fea12",
   "metadata": {},
   "outputs": [],
   "source": [
    "ws.range(\"A1\").value = df"
   ]
  },
  {
   "cell_type": "code",
   "execution_count": 10,
   "id": "7495730b-9a4a-4891-95f6-2945f4f148ac",
   "metadata": {},
   "outputs": [],
   "source": [
    "ws.clear_contents()\n",
    "ws.range(\"A1\").options(index=False).value = df"
   ]
  },
  {
   "cell_type": "code",
   "execution_count": 11,
   "id": "07a07b5d-0de0-4c34-9907-d45e433fc7d8",
   "metadata": {},
   "outputs": [
    {
     "name": "stdout",
     "output_type": "stream",
     "text": [
      "The last row is 1826.\n",
      "The DataFrame df has 1825 rows.\n"
     ]
    }
   ],
   "source": [
    "last_row = ws.range(\"A1,A1\").end('down').row\n",
    "print(\"The last row is {row}.\".format(row=last_row))\n",
    "print(\"The DataFrame df has {rows} rows.\".format(rows=df.shape[0]))"
   ]
  },
  {
   "cell_type": "code",
   "execution_count": 12,
   "id": "6224d532-d195-4afd-ad27-dc1972b85f70",
   "metadata": {},
   "outputs": [
    {
     "name": "stdout",
     "output_type": "stream",
     "text": [
      "['__call__', '__class__', '__delattr__', '__dict__', '__dir__', '__doc__', '__eq__', '__firstlineno__', '__format__', '__ge__', '__getattribute__', '__getitem__', '__getstate__', '__gt__', '__hash__', '__init__', '__init_subclass__', '__iter__', '__le__', '__len__', '__lt__', '__module__', '__ne__', '__new__', '__reduce__', '__reduce_ex__', '__repr__', '__setattr__', '__sizeof__', '__static_attributes__', '__str__', '__subclasshook__', '__weakref__', '_impl', '_options', 'add_hyperlink', 'address', 'adjust_indent', 'api', 'autofill', 'autofit', 'characters', 'clear', 'clear_contents', 'clear_formats', 'color', 'column', 'column_width', 'columns', 'copy', 'copy_from', 'copy_picture', 'count', 'current_region', 'delete', 'end', 'expand', 'font', 'formula', 'formula2', 'formula_array', 'get_address', 'group', 'has_array', 'height', 'hyperlink', 'impl', 'insert', 'last_cell', 'left', 'merge', 'merge_area', 'merge_cells', 'name', 'note', 'number_format', 'offset', 'options', 'paste', 'raw_value', 'resize', 'row', 'row_height', 'rows', 'select', 'shape', 'sheet', 'size', 'table', 'to_pdf', 'to_png', 'top', 'ungroup', 'unmerge', 'value', 'width', 'wrap_text']\n"
     ]
    }
   ],
   "source": [
    "print(dir(ws.range(\"A2:N{row}\".format(row=last_row))))"
   ]
  },
  {
   "cell_type": "code",
   "execution_count": 13,
   "id": "1245d00a-cf03-4630-9022-e99798d5fcad",
   "metadata": {},
   "outputs": [],
   "source": [
    "# ws.range(\n",
    "# f\"A2:N{last_row}\".format(row=last_row)\n",
    "# ).sort(Key1=ws.range(\"A:A\").api, Order1=1)"
   ]
  },
  {
   "cell_type": "code",
   "execution_count": 14,
   "id": "fbc5258b-5eab-4b77-b072-1c5ce4e39c34",
   "metadata": {},
   "outputs": [
    {
     "data": {
      "text/plain": [
       "<Range [Book14]EuroMillions!$O$2>"
      ]
     },
     "execution_count": 14,
     "metadata": {},
     "output_type": "execute_result"
    }
   ],
   "source": [
    "ws.range(\"O1\").value = \"Date2\"\n",
    "ws.range(\"O2\")"
   ]
  },
  {
   "cell_type": "code",
   "execution_count": 15,
   "id": "83b09457-4ff4-4825-999f-e25a985729d9",
   "metadata": {},
   "outputs": [],
   "source": [
    "ws.range(\"O2\").value = \"TEST\""
   ]
  },
  {
   "cell_type": "code",
   "execution_count": 16,
   "id": "cc3ba656-24a7-42e7-8a55-e9b3955516b3",
   "metadata": {},
   "outputs": [],
   "source": [
    "last_row = ws.range(\"C\" + str(ws.cells.last_cell.row)).end(\"up\").row\n",
    "# formula = '=CONCAT(C2,\"-\", D2,\"-\",E2)'\n",
    "# ws.range('P2:P{last_row}').formula = formula\n",
    "ws.range(f\"P2:P{last_row}\").formula = '=DATE(E2, MONTH(1& D2), C2)'"
   ]
  },
  {
   "cell_type": "code",
   "execution_count": 17,
   "id": "901c3f21-cee3-41d0-a677-355c8e1d3af6",
   "metadata": {},
   "outputs": [],
   "source": [
    "ws.range(\"M:M\").number_format = \"$#,##0\""
   ]
  },
  {
   "cell_type": "code",
   "execution_count": 18,
   "id": "3cb72676-a670-476d-bed7-5d3ea4b55f8b",
   "metadata": {},
   "outputs": [],
   "source": [
    "# Format column B as date\n",
    "ws.range(\"P:P\").number_format = \"mm/dd/yyyy\"\n",
    "\n",
    "# Format column C as percentage\n",
    "# ws.range(\"C:C\").number_format = \"0.00%\""
   ]
  },
  {
   "cell_type": "code",
   "execution_count": 19,
   "id": "74e2be0a-b17a-4bdb-9719-5b2ccf3013ba",
   "metadata": {},
   "outputs": [],
   "source": [
    "# Set column width\n",
    "ws.range(\"A:A\").column_width = 15\n",
    "\n",
    "# Set font size & bold\n",
    "ws.range(\"A:A\").font.size = 14\n",
    "ws.range(\"A:A\").font.bold = True"
   ]
  },
  {
   "cell_type": "code",
   "execution_count": 20,
   "id": "d5aff96d-db69-46c1-8a47-e594dd65a9f5",
   "metadata": {},
   "outputs": [
    {
     "name": "stdout",
     "output_type": "stream",
     "text": [
      "O2\n",
      "O$2\n",
      "$O2\n",
      "$O$2\n",
      "EuroMillions!O2\n",
      "EuroMillions!O$2\n",
      "EuroMillions!$O2\n",
      "EuroMillions!$O$2\n",
      "[Book14]EuroMillions!O2\n",
      "[Book14]EuroMillions!O$2\n",
      "[Book14]EuroMillions!$O2\n",
      "[Book14]EuroMillions!$O$2\n",
      "[Book14]EuroMillions!O2\n",
      "[Book14]EuroMillions!O$2\n",
      "[Book14]EuroMillions!$O2\n",
      "[Book14]EuroMillions!$O$2\n"
     ]
    }
   ],
   "source": [
    "for arg4 in (0, 1):\n",
    "    for arg3 in (0, 1):\n",
    "        for arg2 in (0, 1):\n",
    "            for arg1 in (0, 1):\n",
    "                print(ws.range(\"O2\").get_address(arg1, arg2, arg3, arg4))"
   ]
  },
  {
   "cell_type": "code",
   "execution_count": 21,
   "id": "99ffa0cf-a4b4-4d65-8ddc-9190d198e93f",
   "metadata": {},
   "outputs": [],
   "source": [
    "def autofill(worksheet, cell, last_row):\n",
    "   rg_cell = worksheet.range(cell)\n",
    "   to_fill = \"{col}{top_row}:{col}{last_row}\".format(\n",
    "      col=rg_cell.get_address(0,0)[0],\n",
    "      top_row=rg_cell.row,\n",
    "      last_row=last_row\n",
    "   )\n",
    "   rg_cell.api.Autofill(worksheet.range(to_fill).api, 0)"
   ]
  },
  {
   "cell_type": "code",
   "execution_count": 22,
   "id": "e667232b-4f44-4530-b878-418cd638893f",
   "metadata": {},
   "outputs": [
    {
     "name": "stdout",
     "output_type": "stream",
     "text": [
      "<class 'list'>\n",
      "['TEST', None, None, None, None, None, None, None, None, None]\n"
     ]
    }
   ],
   "source": [
    "print(type(ws.range(\"O2:O{row}\".format(row=last_row)).value))\n",
    "print(ws.range('O2:O{row}'.format(row=last_row)).value[:10])"
   ]
  },
  {
   "cell_type": "code",
   "execution_count": 23,
   "id": "d7b9240b-3844-4302-a212-24e335850821",
   "metadata": {},
   "outputs": [],
   "source": [
    "ws.range('O2').options(transpose=True).value = ws.range('O2:O{row}'.format(row=last_row)).value"
   ]
  },
  {
   "cell_type": "code",
   "execution_count": 24,
   "id": "9a045544-130d-48c4-a21f-64e8183b16e8",
   "metadata": {},
   "outputs": [],
   "source": [
    "ws.range('O:O').delete()"
   ]
  },
  {
   "cell_type": "code",
   "execution_count": 25,
   "id": "f958f87a-d583-482b-a79a-5ebc228ba55a",
   "metadata": {},
   "outputs": [
    {
     "name": "stdout",
     "output_type": "stream",
     "text": [
      "2016-09-23 00:00:00\n"
     ]
    }
   ],
   "source": [
    "import datetime\n",
    "\n",
    "for day in ws.range(f\"O2:O{last_row}\"):\n",
    "# checks if day is not prior to the change of the rules\n",
    "    \n",
    "    if day.value <= datetime.datetime(2016, 9, 24, 0, 0):\n",
    "        print(day.value)\n",
    "        # since day is past the modification date,\n",
    "        # the row we want is the previous one, hence minus 1\n",
    "        to_delete = int(day.get_address(0, 0)[1:])-1\n",
    "        # leave the for cycle\n",
    "        break\n",
    "        \n",
    "ws.range('2:{}'.format(to_delete)).delete()"
   ]
  },
  {
   "cell_type": "code",
   "execution_count": 26,
   "id": "9c46497e-45ed-44b1-8f74-bee58da0dd62",
   "metadata": {},
   "outputs": [
    {
     "data": {
      "text/plain": [
       "'N'"
      ]
     },
     "execution_count": 26,
     "metadata": {},
     "output_type": "execute_result"
    }
   ],
   "source": [
    "last_column = ws.range(\"A1,A1\").end('right').get_address(0,0)[0]\n",
    "last_column"
   ]
  },
  {
   "cell_type": "code",
   "execution_count": 32,
   "id": "452637a8-fcce-4be1-b7af-3f0b8af86003",
   "metadata": {},
   "outputs": [],
   "source": [
    "ws.autofit()\n",
    "ws.range('A:L').column_width = ws.range('M:M').column_width"
   ]
  },
  {
   "cell_type": "code",
   "execution_count": 33,
   "id": "7b504842-0127-4f7f-8dcf-ebc45593e53f",
   "metadata": {},
   "outputs": [],
   "source": [
    "# Add new sheet\n",
    "wb.sheets.add('Frequencies')\n",
    "frequencies = wb.sheets['Frequencies']"
   ]
  },
  {
   "cell_type": "code",
   "execution_count": 34,
   "id": "21d14f18-4ff4-42df-a243-c980ef56df4d",
   "metadata": {},
   "outputs": [],
   "source": [
    "# add a header for the numbers\n",
    "frequencies.range('A1').value = 'Number'\n",
    "# populate the fifty cells immediately below with the numbers 1 through 50\n",
    "# since we're starting from the second row, we'll want to substract 1 from the row\n",
    "frequencies.range('A2:A51').value = '=ROW()-1'"
   ]
  },
  {
   "cell_type": "code",
   "execution_count": 37,
   "id": "f6bc7c8d-ddc1-414b-a2b8-d2237a45c34b",
   "metadata": {},
   "outputs": [],
   "source": [
    "# add a header for the frequencies\n",
    "frequencies.range('B1').value = 'Frequency'\n",
    "# insert on B2 the result of a standard Excel formula\n",
    "frequencies.range('B2:B51').formula = '=COUNTIF(Euromillions!$C$2:$G$201,Frequencies!A2)'\n"
   ]
  },
  {
   "cell_type": "code",
   "execution_count": 39,
   "id": "fd84ffde-2557-4430-9034-95e0bb0c2449",
   "metadata": {},
   "outputs": [],
   "source": [
    "frequencies.range('D1').value = 'Lucky Star'\n",
    "frequencies.range('E1').value = 'Frequency'\n",
    "frequencies.range('D2:D13').value = '=ROW()-1'\n",
    "frequencies.range('E2:E13').formula = '=COUNTIF(EuroMillions!$H$2:$I$201,Frequencies!D2)'\n",
    "\n",
    "frequencies.autofit()"
   ]
  },
  {
   "cell_type": "code",
   "execution_count": 40,
   "id": "b9ced0fc-671d-4d60-97fd-f1c636dcf46a",
   "metadata": {},
   "outputs": [],
   "source": [
    "wb.sheets.add('Graphs')\n",
    "graphs = wb.sheets['Graphs']"
   ]
  },
  {
   "cell_type": "code",
   "execution_count": 45,
   "id": "c103976b-d021-47d4-9bea-8b9ea951ba59",
   "metadata": {},
   "outputs": [
    {
     "ename": "AttributeError",
     "evalue": "'Chart' object has no attribute 'full_series_collection'",
     "output_type": "error",
     "traceback": [
      "\u001b[31m---------------------------------------------------------------------------\u001b[39m",
      "\u001b[31mAttributeError\u001b[39m                            Traceback (most recent call last)",
      "\u001b[36mCell\u001b[39m\u001b[36m \u001b[39m\u001b[32mIn[45]\u001b[39m\u001b[32m, line 4\u001b[39m\n\u001b[32m      2\u001b[39m nr_freq.name = \u001b[33m'\u001b[39m\u001b[33mNumber Frequencies\u001b[39m\u001b[33m'\u001b[39m\n\u001b[32m      3\u001b[39m nr_freq.set_source_data(frequencies.range(\u001b[33m'\u001b[39m\u001b[33mFrequencies!B1:B51\u001b[39m\u001b[33m'\u001b[39m))\n\u001b[32m----> \u001b[39m\u001b[32m4\u001b[39m \u001b[43mnr_freq\u001b[49m\u001b[43m.\u001b[49m\u001b[43mfull_series_collection\u001b[49m(\u001b[32m1\u001b[39m).XValues = \u001b[33m'\u001b[39m\u001b[33m=Frequencies!A2:A51\u001b[39m\u001b[33m'\u001b[39m\n",
      "\u001b[31mAttributeError\u001b[39m: 'Chart' object has no attribute 'full_series_collection'"
     ]
    }
   ],
   "source": [
    "nr_freq = xw.Chart()\n",
    "nr_freq.name = 'Number Frequencies'\n",
    "nr_freq.set_source_data(frequencies.range('Frequencies!B1:B51'))\n",
    "nr_freq.fullSeriesCollection(1).XValues = '=Frequencies!A2:A51'"
   ]
  },
  {
   "cell_type": "code",
   "execution_count": null,
   "id": "261ecc50-59de-4452-86e8-c577ece6a8eb",
   "metadata": {},
   "outputs": [],
   "source": []
  },
  {
   "cell_type": "code",
   "execution_count": null,
   "id": "683c3325-744b-42d8-b831-69c963ff98ed",
   "metadata": {},
   "outputs": [],
   "source": []
  }
 ],
 "metadata": {
  "kernelspec": {
   "display_name": "Python 3 (ipykernel)",
   "language": "python",
   "name": "python3"
  },
  "language_info": {
   "codemirror_mode": {
    "name": "ipython",
    "version": 3
   },
   "file_extension": ".py",
   "mimetype": "text/x-python",
   "name": "python",
   "nbconvert_exporter": "python",
   "pygments_lexer": "ipython3",
   "version": "3.13.2"
  }
 },
 "nbformat": 4,
 "nbformat_minor": 5
}
